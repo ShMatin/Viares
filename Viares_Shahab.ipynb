FOllowing Data shows a population series on Crude Birth Rate for every UN member-state for the 4 target years of 1990,2000,2015 and 2020, which lso includes categories based on georgafical and income attibutes. 
Some assumptions taken from the statistics:

1- Crude Birth Rate has been reduced generally for almost all countries.
2- Crude Birth Rate has been reduced least in Africa and most in Asia-Pacific
3- It appears that there is no meaningfull association between the income and the % of Crude Birth rate reduction




Country Name

1990 [YR1990]

2000 [YR2000]

2015 [YR2015]

2020 [YR2020]

 

Afghanistan

48.88

48.021

34.809

31.153

 

Albania

24.867

16.436

12.197

11.453

 

Algeria

32.13

19.554

25.481

22.781

 

American Samoa

..

..

..

12.7

 

Andorra

11.9

11.3

..

..

 

Angola

50.383

48.15

42.52

39.791

 

Antigua and Barbuda

18.659

19.84

15.883

14.876

 

Argentina

22.226

19.499

17.548

16.644

 

Armenia

21.768

12.91

14.795

13.281

 

Aruba

19.571

14.173

11.281

11.841

 

Australia

15.4

13

12.9

11.5

 

Austria

11.8

9.8

9.8

9.4

 

Azerbaijan

25.9

14.5

17.2

12.5

 

Bahamas, The

23.892

17.609

14.224

13.791

 

Bahrain

29.217

21.722

15.096

13.269

 

Bangladesh

35.099

27.493

19.156

17.549

 

Barbados

15.988

13.934

10.806

10.598

 

Belarus

14

9.4

12.5

9.3

 

Belgium

12.4

11.4

10.8

9.9

 

Belize

35.862

29.868

21.733

20.247

 

Benin

46.029

42.371

37.432

35.452

 

Bermuda

14.6

13.5

9.4

8.4

 

Bhutan

38.163

27.066

17.783

16.712

 

Bolivia

35.336

30.314

22.821

21.186

 

Bosnia and Herzegovina

14.844

10.983

8.655

7.778

 

Botswana

34.932

29.302

26.44

23.654

 

Brazil

24.844

20.119

14.472

13.463

 

British Virgin Islands

..

..

..

..

 

Brunei Darussalam

29.401

22.679

16.365

14.076

 

Bulgaria

12.1

9

9.2

8.5

 

Burkina Faso

47.417

46.253

39.437

36.989

 

Burundi

49.866

42.993

40.883

37.765

 

Cabo Verde

40.828

27.608

20.754

18.636

 

Cambodia

42.358

28.058

23.674

21.561

 

Cameroon

44.824

41.419

36.964

34.421

 

Canada

15

10.7

10.7

9.4

 

Cayman Islands

18.6

15.4

11

12.6

 

Central African Republic

42.004

41.347

36.454

34.879

 

Chad

50.992

50.941

43.73

41.161

 

Channel Islands

12.562

11.991

10.17

9.786

 

Chile

22.286

16.556

13.369

11.99

 

China

21.06

14.03

11.99

8.52

 

Colombia

27.136

22.256

15.515

14.415

 

Comoros

42.558

37.497

33.328

30.949

 

Congo, Dem. Rep.

46.082

45.965

42.808

40.109

 

Congo, Rep.

37.997

38.554

34.511

31.991

 

Costa Rica

27.394

19.335

14.762

13.404

 

Cote d'Ivoire

43.224

41.069

36.438

35.168

 

Croatia

11.6

9.8

8.9

8.9

 

Cuba

16.487

13.069

10.822

9.779

 

Curacao

..

..

11.9

10.1

 

Cyprus

19.049

13.2

11.011

10.008

 

Czech Republic

12.6

8.9

10.5

10.3

 

Denmark

12.3

12.6

10.2

10.4

 

Djibouti

39.777

31.48

22.921

20.542

 

Dominica

23

..

..

..

 

Dominican Republic

29.568

24.771

20.32

18.863

 

Ecuador

29.912

25.503

20.432

19.189

 

Egypt, Arab Rep.

33.249

25.958

28.182

25.069

 

El Salvador

31.215

24.931

18.734

17.827

 

Equatorial Guinea

42.085

41.136

34.768

32.349

 

Eritrea

41.58

32.518

32.191

29.216

 

Estonia

14.2

9.4

10.6

9.9

 

Eswatini

38.946

32.318

27.579

25.4

 

Ethiopia

47.479

43.728

33.635

31.442

 

Faroe Islands

19.9

15.1

12.4

12.9

 

Fiji

28.888

24.738

21.983

20.604

 

Finland

13.1

11

10.1

8.4

 

France

13.4

13.3

12

10.9

 

French Polynesia

28.411

20.172

15.473

14.175

 

Gabon

37.481

33.377

32.927

30.257

 

Gambia, The

46.981

42.682

39.719

37.588

 

Georgia

17.261

12.063

14.078

12.916

 

Germany

11.4

9.3

9

9.3

 

Ghana

40.038

35.671

30.714

28.598

 

Gibraltar

..

..

..

..

 

Greece

10

9.6

8.5

7.9

 

Greenland

22.6

15.6

15.2

14.8

 

Grenada

28.31

18.444

17.074

15.902

 

Guam

25.615

21.936

17.007

16.348

 

Guatemala

38.984

35.341

25.627

23.854

 

Guinea

48.103

44.21

37.583

35.568

 

Guinea-Bissau

46.71

41.828

36.819

34.006

 

Guyana

28.24

25.704

20.629

19.473

 

Haiti

37.257

31.777

25.581

23.58

 

Honduras

38.484

33.829

22.433

21.06

 

Hong Kong SAR, China

12

8.1

8.2

5.8

 

Hungary

12.1

9.6

9.4

9.6

 

Iceland

18.7

15.3

12.5

12.3

 

India

31.517

26.401

18.625

17.437

 

Indonesia

25.813

21.773

19.165

17.448

 

Iran, Islamic Rep.

32.183

17.654

19.066

17.94

 

Iraq

37.755

35.821

31.109

28.139

 

Ireland

15.1

14.4

13.9

11.2

 

Isle of Man

..

..

..

..

 

Israel

22.2

21.7

21.3

19.2

 

Italy

10

9.5

8

6.8

 

Jamaica

25.33

21.372

16.633

15.695

 

Japan

10

9.4

8

6.8

 

Jordan

35.287

31.709

24.274

21.109

 

Kazakhstan

22.18

14.92

22.71

22.76

 

Kenya

42.56

40.037

30.688

27.936

 

Kiribati

36.719

30.579

28.98

26.999

 

Korea, Dem. People's Rep.

20.657

17.973

13.91

13.784

 

Korea, Rep.

15.2

13.5

8.6

5.3

 

Kosovo

29.6

22.8

17.1

15.4

 

Kuwait

23.225

22.817

16.086

12.616

 

Kyrgyz Republic

29.1

19.8

27.4

24

 

Lao PDR

42.902

31.985

24.71

22.66

 

Latvia

14.2

8.6

11.1

9.2

 

Lebanon

27.338

21.119

17.737

17.17

 

Lesotho

35.013

30.952

27.799

25.998

 

Liberia

45.364

42.914

34.297

32.355

 

Libya

29.381

21.626

20.465

17.806

 

Liechtenstein

13.2

12.9

8.7

9.1

 

Lithuania

15.4

9.8

10.8

9

 

Luxembourg

12.9

13.1

10.7

10.2

 

Macao SAR, China

18.972

8.93

11.36

10.712

 

Madagascar

44.339

41.275

33.392

32.145

 

Malawi

47.939

43.727

35.839

33.416

 

Malaysia

28.096

21.98

17.024

16.435

 

Maldives

41.126

21.385

16.421

13.055

 

Mali

48.769

48.784

43.226

40.557

 

Malta

15.2

11.3

9.7

8.6

 

Marshall Islands

..

..

..

..

 

Mauritania

40.212

38.14

34.991

32.843

 

Mauritius

21.3

17

10.1

10.6

 

Mexico

28.802

23.85

18.573

17.005

 

Micronesia, Fed. Sts.

34.028

29.908

23.213

22.606

 

Moldova

18.574

11.298

10.609

9.763

 

Monaco

..

..

8.1

..

 

Mongolia

32.224

19.307

25.849

22.564

 

Montenegro

16.487

15.2

11.9

11.4

 

Morocco

29.241

22.236

20.31

18.099

 

Mozambique

44.842

44.769

38.607

36.808

 

Myanmar

27.486

24.588

18.041

17.233

 

Namibia

37.795

30.866

29.904

27.659

 

Nauru

..

..

..

..

 

Nepal

38.458

31.547

20.844

19.256

 

Netherlands

13.2

13

10.1

9.7

 

New Caledonia

25.6

21.4

15.4

13.783

 

New Zealand

17.5

14.66

13.23

11.32

 

Nicaragua

35.865

27.054

21.859

19.788

 

Niger

55.485

53.541

47.502

45.213

 

Nigeria

44.265

43.156

39.359

37.011

 

North Macedonia

17.724

14.5

11.1

9.2

 

Northern Mariana Islands

..

..

..

..

 

Norway

14.4

13.2

11.3

9.8

 

Oman

38.282

24.139

20.697

17.782

 

Pakistan

41.222

34.703

29.124

27.379

 

Palau

21.6

14.5

13.7

11

 

Panama

26.255

23.452

19.863

18.451

 

Papua New Guinea

34.813

33.993

27.993

26.522

 

Paraguay

33.489

26.968

21.198

20.093

 

Peru

30.677

23.328

18.544

17.544

 

Philippines

33.02

29.606

22.273

19.89

 

Poland

14.4

9.9

9.7

9.4

 

Portugal

11.7

11.7

8.3

8.2

 

Puerto Rico

18.5

15.59

9

5.6

 

Qatar

22.509

19.267

10.033

9.226

 

Romania

13.6

10.4

10.2

9.2

 

Russian Federation

13.4

8.7

13.3

9.8

 

Rwanda

47.283

39.657

32.604

30.725

 

Samoa

33.127

30.616

25.427

23.855

 

San Marino

..

..

8.2

6.4

 

Sao Tome and Principe

40.053

39.589

32.95

30.811

 

Saudi Arabia

35.799

26.375

19.41

16.814

 

Senegal

42.678

39.246

36.318

33.418

 

Serbia

..

9.8

9.3

8.9

 

Seychelles

23.1

18.6

17

15.8

 

Sierra Leone

46.558

44.073

35.055

32.354

 

Singapore

18.2

13.7

9.7

8.5

 

Sint Maarten (Dutch part)

..

..

..

..

 

Slovak Republic

15.1

10.2

10.3

10.4

 

Slovenia

11.2

9.1

10

8.9

 

Solomon Islands

39.989

35.569

33.556

31.447

 

Somalia

48.505

49.024

42.303

41.406

 

South Africa

30.312

22.854

21.719

19.773

 

South Sudan

47.406

43.081

36.116

34.297

 

Spain

10.3

9.8

9

7.1

 

Sri Lanka

20.624

18.463

16.609

15.253

 

St. Kitts and Nevis

..

..

..

..

 

St. Lucia

28.288

18.647

12.389

11.656

 

St. Martin (French part)

24.9

17.4

15.5

14.4

 

St. Vincent and the Grenadines

24.843

19.963

14.78

13.938

 

Sudan

41.809

39.54

33.318

31.491

 

Suriname

27.954

23.735

19.292

18.053

 

Sweden

14.5

10.2

11.7

10.9

 

Switzerland

12.5

10.9

10.5

9.9

 

Syrian Arab Republic

35.875

31.363

24.95

22.71

 

Tajikistan

40.557

30.624

32.115

29.227

 

Tanzania

43.986

41.648

37.866

35.981

 

Thailand

19.222

14.524

10.836

9.987

 

Timor-Leste

41.933

39.547

29.32

29.023

 

Togo

41.585

39.833

34.51

32.334

 

Tonga

31.341

28.248

25.354

23.754

 

Trinidad and Tobago

20.72

14.724

14.007

12.235

 

Tunisia

25.975

17.297

18.707

16.604

 

Turkiye

25.865

21.672

16.718

15.531

 

Turkmenistan

35.465

23.601

26.005

22.348

 

Turks and Caicos Islands

..

..

..

..

 

Tuvalu

..

..

..

..

 

Uganda

49.855

48.584

40.68

36.674

 

Ukraine

12.6

7.8

10.7

7.8

 

United Arab Emirates

25.984

16.494

10.772

10.126

 

United Kingdom

13.9

11.5

11.9

10.2

 

United States

16.7

14.4

12.4

10.9

 

Uruguay

18.294

16.329

14.134

13.616

 

Uzbekistan

33.7

21.4

23.5

24.6

 

Vanuatu

36.084

33.384

30.814

28.763

 

Venezuela, RB

28.703

23.8

19.002

17.297

 

Vietnam

28.561

17.429

17.259

16.12

 

Virgin Islands (U.S.)

21.4

14.4

13.2

12.1

 

West Bank and Gaza

45.22

40.9

31.246

28.214

 

Yemen, Rep.

52.621

39.517

32.197

29.304

 

Zambia

45.725

45.271

37.95

35.443

 

Zimbabwe

36.218

31.776

33.981

28.977

 

Africa Eastern and Southern

43.51798217

40.62416875

35.29975291

33.09241421

 

Africa Western and Central

44.84173637

43.04577215

38.53572218

36.28772477

 

Arab World

35.31807011

28.70911473

26.57699157

24.17120376

Caribbean small states

24.79855001

20.41682625

16.52698108

15.4374717

 

Central Europe and the Baltics

13.54862721

9.770927434

9.888469993

9.429718977

 

Early-demographic dividend

32.26212802

26.70189908

21.09695249

19.63809115

 

East Asia & Pacific

21.56853578

15.83643002

13.54745843

10.91331936

 

East Asia & Pacific (excluding high income)

22.80408977

16.43588129

14.10336221

11.35483841

 

East Asia & Pacific (IDA & IBRD countries)

22.83158273

16.41622914

14.10577107

11.3248135

 

Euro area

11.71514052

10.62807486

9.663873136

8.873871913

 

Europe & Central Asia

14.8834333

11.68166541

12.44676343

11.13974582

 

Europe & Central Asia (excluding high income)

18.25571511

13.06267196

15.61452139

13.63186939

 

Europe & Central Asia (IDA & IBRD countries)

17.5724536

12.61290434

14.81810827

13.05865219

 

European Union

12.16424253

10.46162119

9.741875138

9.043593098

 

Fragile and conflict affected situations

38.88223729

37.28487237

33.59152666

31.71187426

 

Heavily indebted poor countries (HIPC)

45.35368931

42.95072623

36.66216629

34.44971373

 

High income

14.25745746

12.3102813

10.94785152

9.693419855

 

IBRD only

25.33117999

19.73090105

16.54446072

14.56715925

 

IDA & IBRD total

28.49196375

23.53545941

20.4349

18.7019656

 

IDA blend

41.60109221

37.31595085

33.03054704

31.09688207

 

IDA only

41.65278876

37.75243561

31.93123206

30.15252566

 

IDA total

41.63551145

37.60663405

32.30039131

30.46985336

 

Late-demographic dividend

21.10565683

14.75301762

13.01598072

10.35281235

 

Latin America & Caribbean

26.94723021

22.24734168

17.08870608

15.86394592

 

Latin America & Caribbean (excluding high income)

27.19619159

22.47454866

17.17063701

15.98771602

 

Latin America & the Caribbean (IDA & IBRD countries)

27.28860661

22.51109839

17.26061897

16.03197084

 

Least developed countries: UN classification

42.28088808

38.54018099

32.53399274

30.73604061

 

Low & middle income

28.68984156

23.70005888

20.5389652

18.79272102

 

Low income

44.95362248

42.55164772

36.18611512

34.05339086

 

Lower middle income

32.61642445

27.35893795

22.58647806

21.17832787

 

Middle East & North Africa

33.41434118

24.64485996

23.85331369

21.54859986

 

Middle East & North Africa (excluding high income)

33.65030285

24.72912722

24.89880244

22.59137123

 

Middle East & North Africa (IDA & IBRD countries)

33.5482534

24.55813938

24.82345436

22.52236044

 

Middle income

27.45086655

22.06824026

18.83407443

16.99768975

 

North America

16.52983405

14.03697913

12.22920215

10.74519697

 

Not classified

..

..

..

..

 

OECD members

15.85160952

13.77822411

11.94458164

10.74502328

 

Other small states

32.65533175

28.1139466

24.00103065

22.42009767

 

Pacific island small states

32.81288794

29.1200818

26.8823385

25.40642843

 

Post-demographic dividend

13.4293147

11.60668973

10.54968646

9.226658167

 

Pre-demographic dividend

45.20939247

43.52502299

38.04821

35.66993041

 

Small states

30.79003155

26.49112577

22.78740067

21.3699578

 

South Asia

32.90912352

27.65449024

20.19681543

18.91835314

 

South Asia (IDA & IBRD)

32.90912352

27.65449024

20.19681543

18.91835314

 

Sub-Saharan Africa

44.0501423

41.59675378

36.60520368

34.38287128

 

Sub-Saharan Africa (excluding high income)

44.05300102

41.59955838

36.60704371

34.38448201

 

Sub-Saharan Africa (IDA & IBRD countries)

44.0501423

41.59675378

36.60520368

34.38287128

 

Upper middle income

22.04759952

16.07899218

14.02186436

11.43120481

 

World

25.87870079

21.65153881

18.95222527

17.33359879

